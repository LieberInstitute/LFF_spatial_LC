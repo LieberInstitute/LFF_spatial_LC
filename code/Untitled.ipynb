{
 "cells": [
  {
   "cell_type": "code",
   "execution_count": 1,
   "id": "3a8bf92f-33c5-453f-9fd9-e139ba9ab2e2",
   "metadata": {
    "execution": {
     "iopub.execute_input": "2025-09-03T20:52:02.227332Z",
     "iopub.status.busy": "2025-09-03T20:52:02.227088Z",
     "iopub.status.idle": "2025-09-03T20:52:02.672713Z",
     "shell.execute_reply": "2025-09-03T20:52:02.672206Z",
     "shell.execute_reply.started": "2025-09-03T20:52:02.227311Z"
    }
   },
   "outputs": [],
   "source": [
    "import numpy as np, matplotlib.pyplot as plt\n",
    "from tifffile import imread, imwrite\n",
    "import matplotlib\n",
    "matplotlib.use(\"Agg\")  # non-GUI backend\n",
    "import matplotlib.pyplot as plt\n",
    "import sys"
   ]
  },
  {
   "cell_type": "code",
   "execution_count": 2,
   "id": "43b75ecd-ba3e-4c6b-9913-a1f24abc894d",
   "metadata": {
    "execution": {
     "iopub.execute_input": "2025-09-03T20:52:05.723177Z",
     "iopub.status.busy": "2025-09-03T20:52:05.722855Z",
     "iopub.status.idle": "2025-09-03T20:52:06.565210Z",
     "shell.execute_reply": "2025-09-03T20:52:06.564753Z",
     "shell.execute_reply.started": "2025-09-03T20:52:05.723155Z"
    },
    "scrolled": true
   },
   "outputs": [
    {
     "data": {
      "text/plain": [
       "0"
      ]
     },
     "execution_count": 2,
     "metadata": {},
     "output_type": "execute_result"
    }
   ],
   "source": [
    "import boto3\n",
    "import tifffile\n",
    "from io import BytesIO\n",
    "import boto3\n",
    "import io\n",
    "import pickle\n",
    "\n",
    "# --- S3 Configuration ---\n",
    "bucket_name = 'libd-883269661005-datalake-bucket'\n",
    "s3_file_key = 'spatial/LC_LFF_images/V13M06-404_LC_slide4_07_20_23_A1_cluster1.tif'\n",
    "\n",
    "# Create a boto3 S3 client\n",
    "s3 = boto3.client('s3')\n",
    "\n",
    "# Download the TIFF file into a byte stream\n",
    "file_stream = BytesIO()\n",
    "s3.download_fileobj(bucket_name, s3_file_key, file_stream)\n",
    "\n",
    "# Rewind the stream to the beginning\n",
    "file_stream.seek(0)\n",
    "\n",
    "he   = imread(file_stream)   # RGB H&E\n",
    "\n",
    "print(\"HE:\", he.shape, he.dtype)"
   ]
  },
  {
   "cell_type": "code",
   "execution_count": 3,
   "id": "5200d79a-afc5-4412-a34f-677b11c0d556",
   "metadata": {
    "execution": {
     "iopub.execute_input": "2025-09-03T20:52:08.509592Z",
     "iopub.status.busy": "2025-09-03T20:52:08.509248Z",
     "iopub.status.idle": "2025-09-03T20:52:09.372364Z",
     "shell.execute_reply": "2025-09-03T20:52:09.371846Z",
     "shell.execute_reply.started": "2025-09-03T20:52:08.509570Z"
    }
   },
   "outputs": [
    {
     "name": "stdout",
     "output_type": "stream",
     "text": [
      "HE: (26082, 25200, 3) uint8\n"
     ]
    }
   ],
   "source": [
    "\n",
    "#3:///spatial/LC_LFF_images/V13M06-404_LC_slide4_07_20_23_A1_cluster1.tif\n",
    "\n",
    "#V13M06-404_LC_slide4_07_20_23_A1_cluster1.tif\n",
    "\n",
    "# ---------------- load ----------------\n"
   ]
  },
  {
   "cell_type": "code",
   "execution_count": 4,
   "id": "204f777b-95b3-494e-8594-0c357fced1a7",
   "metadata": {
    "execution": {
     "iopub.execute_input": "2025-09-03T20:53:00.717050Z",
     "iopub.status.busy": "2025-09-03T20:53:00.716792Z",
     "iopub.status.idle": "2025-09-03T20:53:03.040173Z",
     "shell.execute_reply": "2025-09-03T20:53:03.039644Z",
     "shell.execute_reply.started": "2025-09-03T20:53:00.717030Z"
    }
   },
   "outputs": [],
   "source": [
    "np.save('my_array.npy', np.array(he))"
   ]
  },
  {
   "cell_type": "code",
   "execution_count": null,
   "id": "3b8b08ae-4f2c-4351-ad71-9c133ad09649",
   "metadata": {},
   "outputs": [],
   "source": [
    "# Create an in-memory binary stream\n",
    "buffer = io.BytesIO()\n",
    "\n",
    "# Pickle the NumPy array into the buffer\n",
    "pickle.dump(my_array, buffer)\n",
    "\n",
    "# Reset the buffer's position to the beginning before uploading\n",
    "buffer.seek(0)\n",
    "\n",
    "# Upload the buffer's content to S3\n",
    "bucket_name = 'libd-883269661005-datalake-bucket'\n",
    "s3_file_key = 'spatial/LC_LFF_images/numpy/my_array.npy'\n",
    "s3_client.upload_fileobj(buffer, bucket_name, file_key)"
   ]
  }
 ],
 "metadata": {
  "kernelspec": {
   "display_name": "Python 3 (ipykernel)",
   "language": "python",
   "name": "python3"
  },
  "language_info": {
   "codemirror_mode": {
    "name": "ipython",
    "version": 3
   },
   "file_extension": ".py",
   "mimetype": "text/x-python",
   "name": "python",
   "nbconvert_exporter": "python",
   "pygments_lexer": "ipython3",
   "version": "3.12.9"
  }
 },
 "nbformat": 4,
 "nbformat_minor": 5
}
